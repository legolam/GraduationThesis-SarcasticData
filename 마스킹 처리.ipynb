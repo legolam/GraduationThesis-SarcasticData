{
 "cells": [
  {
   "cell_type": "code",
   "execution_count": 2,
   "metadata": {},
   "outputs": [],
   "source": [
    "from pandas import Series, DataFrame\n",
    "import pandas as pd\n",
    "\n",
    "pos_df = pd.read_csv('C:/Users/LG/OneDrive/바탕 화면/코딩/com_pos.csv', encoding='utf-8-sig')\n",
    "reply_list = list(pos_df['comment'])\n",
    "\n",
    "name_df = pd.read_csv('C:/Users/LG/OneDrive/바탕 화면/코딩/masking_word.csv', encoding='utf-8-sig')\n",
    "name_list = list(name_df['name_list'])"
   ]
  },
  {
   "cell_type": "code",
   "execution_count": 3,
   "metadata": {},
   "outputs": [],
   "source": [
    "names_list = []\n",
    "for names in name_list:\n",
    "    names = str(names)\n",
    "    if ',' in names:\n",
    "        names = names.replace(' ', '')\n",
    "        names = names.split(',')\n",
    "        for i in range(len(names)):\n",
    "            names_list.append(names[i])"
   ]
  },
  {
   "cell_type": "code",
   "execution_count": 4,
   "metadata": {},
   "outputs": [],
   "source": [
    "masking_data = []\n",
    "\n",
    "for i in range(len(reply_list)):\n",
    "    for name in names_list:\n",
    "        if name in reply_list[i]:\n",
    "            reply_list[i] = reply_list[i].replace(name, 'OOO')\n",
    "        else:\n",
    "            pass"
   ]
  },
  {
   "cell_type": "code",
   "execution_count": 63,
   "metadata": {},
   "outputs": [
    {
     "name": "stdout",
     "output_type": "stream",
     "text": [
      "안정권\n"
     ]
    }
   ],
   "source": [
    "for name in names_list:\n",
    "    if '안정권' in name:\n",
    "       print(name)"
   ]
  },
  {
   "cell_type": "code",
   "execution_count": 9,
   "metadata": {},
   "outputs": [],
   "source": [
    "df = pd.DataFrame({'masking_data' : reply_list})"
   ]
  },
  {
   "cell_type": "code",
   "execution_count": 12,
   "metadata": {},
   "outputs": [],
   "source": [
    "import csv\n",
    "df.to_csv('masking.csv', encoding='utf-8-sig')"
   ]
  },
  {
   "cell_type": "code",
   "execution_count": 11,
   "metadata": {},
   "outputs": [
    {
     "data": {
      "text/html": [
       "<div>\n",
       "<style scoped>\n",
       "    .dataframe tbody tr th:only-of-type {\n",
       "        vertical-align: middle;\n",
       "    }\n",
       "\n",
       "    .dataframe tbody tr th {\n",
       "        vertical-align: top;\n",
       "    }\n",
       "\n",
       "    .dataframe thead th {\n",
       "        text-align: right;\n",
       "    }\n",
       "</style>\n",
       "<table border=\"1\" class=\"dataframe\">\n",
       "  <thead>\n",
       "    <tr style=\"text-align: right;\">\n",
       "      <th></th>\n",
       "      <th>masking_data</th>\n",
       "    </tr>\n",
       "  </thead>\n",
       "  <tbody>\n",
       "    <tr>\n",
       "      <th>0</th>\n",
       "      <td>욕쟁이들이 편히 사는 나라ㅋㅋ</td>\n",
       "    </tr>\n",
       "    <tr>\n",
       "      <th>1</th>\n",
       "      <td>왼쪽애들한테 맨날 시달렸는데 거울치료 ㅅㅌㅊㅋㅋ</td>\n",
       "    </tr>\n",
       "    <tr>\n",
       "      <th>2</th>\n",
       "      <td>대한민국 국민들은 OOO에게 감사하게 여겨라</td>\n",
       "    </tr>\n",
       "    <tr>\n",
       "      <th>3</th>\n",
       "      <td>계양은 이번에 평가 받겠지. 지켜봄.</td>\n",
       "    </tr>\n",
       "    <tr>\n",
       "      <th>4</th>\n",
       "      <td>탈라도하신 OOO이 문정권보다 518배 낫다고 자부합니다. 이제 나라가 제대로 돌아...</td>\n",
       "    </tr>\n",
       "    <tr>\n",
       "      <th>...</th>\n",
       "      <td>...</td>\n",
       "    </tr>\n",
       "    <tr>\n",
       "      <th>12133</th>\n",
       "      <td>기사좋아요.</td>\n",
       "    </tr>\n",
       "    <tr>\n",
       "      <th>12134</th>\n",
       "      <td>간OOO하고 신삼정하고 당 하나 통합해서 만들어라역적당 이라고 좋음</td>\n",
       "    </tr>\n",
       "    <tr>\n",
       "      <th>12135</th>\n",
       "      <td>OOO이 정말 고맙네. OOO 덕분에 김동현이 당선되었어.OOO 고맙다.</td>\n",
       "    </tr>\n",
       "    <tr>\n",
       "      <th>12136</th>\n",
       "      <td>OOO아 아직 마무리 못한 일은끝내야지</td>\n",
       "    </tr>\n",
       "    <tr>\n",
       "      <th>12137</th>\n",
       "      <td>원래 성질 더러운 애들끼리 거기까지 간 것만 해도 대단한 거다 ㅋㅋㅋㅋ 이젠 그랬으...</td>\n",
       "    </tr>\n",
       "  </tbody>\n",
       "</table>\n",
       "<p>12138 rows × 1 columns</p>\n",
       "</div>"
      ],
      "text/plain": [
       "                                            masking_data\n",
       "0                                       욕쟁이들이 편히 사는 나라ㅋㅋ\n",
       "1                             왼쪽애들한테 맨날 시달렸는데 거울치료 ㅅㅌㅊㅋㅋ\n",
       "2                               대한민국 국민들은 OOO에게 감사하게 여겨라\n",
       "3                                   계양은 이번에 평가 받겠지. 지켜봄.\n",
       "4      탈라도하신 OOO이 문정권보다 518배 낫다고 자부합니다. 이제 나라가 제대로 돌아...\n",
       "...                                                  ...\n",
       "12133                                             기사좋아요.\n",
       "12134              간OOO하고 신삼정하고 당 하나 통합해서 만들어라역적당 이라고 좋음\n",
       "12135           OOO이 정말 고맙네. OOO 덕분에 김동현이 당선되었어.OOO 고맙다.\n",
       "12136                              OOO아 아직 마무리 못한 일은끝내야지\n",
       "12137  원래 성질 더러운 애들끼리 거기까지 간 것만 해도 대단한 거다 ㅋㅋㅋㅋ 이젠 그랬으...\n",
       "\n",
       "[12138 rows x 1 columns]"
      ]
     },
     "execution_count": 11,
     "metadata": {},
     "output_type": "execute_result"
    }
   ],
   "source": [
    "df"
   ]
  }
 ],
 "metadata": {
  "kernelspec": {
   "display_name": "Python 3 (ipykernel)",
   "language": "python",
   "name": "python3"
  },
  "language_info": {
   "codemirror_mode": {
    "name": "ipython",
    "version": 3
   },
   "file_extension": ".py",
   "mimetype": "text/x-python",
   "name": "python",
   "nbconvert_exporter": "python",
   "pygments_lexer": "ipython3",
   "version": "3.9.12"
  },
  "vscode": {
   "interpreter": {
    "hash": "dbc2d860e59ffcf4c7e3321cdf91ed515b575f2741e55bcb74f1a255f2f51726"
   }
  }
 },
 "nbformat": 4,
 "nbformat_minor": 2
}
