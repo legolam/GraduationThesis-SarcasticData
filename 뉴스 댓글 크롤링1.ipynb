#셀레니움 설치
#pip install selenium
#웹드라이버 설치
#

from selenium import webdriver
from selenium.webdriver.common.by import By
import time
import pandas as pd

#뉴스 링크 불러오기
f = open('C:/Users/LG/OneDrive/바탕 화면/코딩/뉴스 링크(comment 링크 추가).txt', 'r')
links = f.read().split('https://')

news_link = []
for link in links:
    if len(link) > 0:
        link = link.replace('\t', '').replace('\n', '')
        if 'daum' in link:
            news_link.append("https://"+link)
        else:
            news_link.append("https://"+link+'&m_view=1')

#댓글 데이터프레임 모양
commentdf = pd.DataFrame({'comment' : [], 'news_title':[]})

#크롤링 옵션 설정
options = webdriver.ChromeOptions()
options.add_argument("headless")
options.add_argument("user-agent=Mozilla/5.0 (Windows NT 10.0; Win64; x64) AppleWebKit/537.36 (KHTML, like Gecko) Chrome/87.0.4280.20 Safari/537.36")

#크롤링 코드
for url in [news_link[1], news_link[21]]:
    if 'naver' in url: 
        #웹 드라이버 실행
        driver = webdriver.Chrome('./chromedriver.exe', options=options)
        driver.implicitly_wait(30)
        driver.get(url)

        #클린봇 옵션 해제
        time.sleep(1)
        cleanbot = driver.find_element(By.CSS_SELECTOR, 'a.u_cbox_cleanbot_setbutton')
        cleanbot.click()
        time.sleep(1)
        cleanbot_disable = driver.find_element(By.XPATH, "//input[@id='cleanbot_dialog_checkbox_cbox_module']")
        cleanbot_disable.click()
        time.sleep(1)
        cleanbot_confirm = driver.find_element(By.CSS_SELECTOR, 'body > div.u_cbox.u_cbox_layer_wrap > div > div.u_cbox_layer_cleanbot2 > div.u_cbox_layer_cleanbot2_extra > button')
        cleanbot_confirm.click()
        time.sleep(1)

        #댓글 더보기 계속 클릭하기
        while True:
            try:
                btn_more = driver.find_element(By.CSS_SELECTOR, 'a.u_cbox_btn_more')
                btn_more.click()
                time.sleep(1)
            except:
                break

        #댓글추출
        contents = driver.find_elements(By.CSS_SELECTOR, 'span.u_cbox_contents')
        #뉴스 제목 추출
        news_title = driver.find_element(By.CSS_SELECTOR, '#ct > div.media_end_head.go_trans > div.media_end_head_title > h2')

        for content in contents:
            new_row = pd.DataFrame([[content.text, news_title.text]], columns = commentdf.columns)
            commentdf = pd.concat([commentdf, new_row])
        driver.quit()

    elif 'daum' in url: 
        #웹 드라이버
        driver = webdriver.Chrome('./chromedriver.exe', options=options)
        driver.implicitly_wait(30)
        driver.get(url)

        time.sleep(30)
        reply_open = driver.find_element(By.CSS_SELECTOR, '#alex-area > div > div > div > div.cmt_count_box > button')
        reply_open.click()
        time.sleep(1)

        #최신순
        safebot = driver.find_element(By.XPATH, '//*[@id="alex-area"]/div/div/div/div[4]/ul[1]/li[3]/button')
        safebot.click()
        time.sleep(1)

        #세이프봇 옵션 해제
        safebot = driver.find_element(By.XPATH, '//*[@id="alex-area"]/div/div/div/div[3]/div[2]/button')
        safebot.click()
        time.sleep(1)
        safebot_disable = driver.find_element(By.CSS_SELECTOR, '#alex-area > div > div > div:nth-child(2) > div.cmtarray_layer > div > div.layer_body > dl > dd > button')
        safebot_disable.click()
        time.sleep(1)
        safebot_confirm = driver.find_element(By.XPATH, '//*[@id="alex-area"]/div/div/div[2]/div[2]/div/a')
        safebot_confirm.click()
        time.sleep(1)


        #더보기 계속 클릭하기
        while True:
            try:
                btn_more = driver.find_element(By.CSS_SELECTOR, '#alex-area > div > div > div > div.cmt_box > div.alex_more > button')
                btn_more.click()
                time.sleep(1)
            except:
                break


        #댓글추출
        contents = driver.find_elements(By.CSS_SELECTOR, '#alex-area > div > div > div > div.cmt_box > ul.list_comment > li > div > p')

        #제목추출
        news_title = driver.find_element(By.CSS_SELECTOR, '#mArticle > div.head_view > h3')

        for content in contents:
            content = content.text
            content = content.replace("\n", "")
            new_row = pd.DataFrame([[content, news_title.text]], columns = commentdf.columns)
            commentdf = pd.concat([commentdf, new_row])
        driver.quit()
